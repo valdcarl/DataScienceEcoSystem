{
 "cells": [
  {
   "cell_type": "markdown",
   "id": "f23e467f",
   "metadata": {},
   "source": [
    "# Data Science Tools and Ecosystem"
   ]
  },
  {
   "cell_type": "markdown",
   "id": "6e0b1b47",
   "metadata": {},
   "source": [
    "In this notebook, Data Science Tools and Ecosystem are summarized."
   ]
  },
  {
   "cell_type": "markdown",
   "id": "59c7da49",
   "metadata": {},
   "source": [
    "Some of the popular languages that Data Scientists use are:\n",
    "1. Python\n",
    "2. R\n",
    "3. Julia\n"
   ]
  },
  {
   "cell_type": "markdown",
   "id": "e9198d2a",
   "metadata": {},
   "source": [
    "Some of the commonly used libraries used in by Data Scientists include:\n",
    "1. TensorFlow\n",
    "2. Pandas\n",
    "3. Scikit-Learn"
   ]
  },
  {
   "cell_type": "markdown",
   "id": "2d36e396",
   "metadata": {},
   "source": [
    "\n",
    "| Data Science Tools |\n",
    "|:--------------------|\n",
    "| Jupyter Notebooks/Labs            |\n",
    "| RStudio             |\n",
    "| Spyder             |"
   ]
  },
  {
   "cell_type": "markdown",
   "id": "185b5046",
   "metadata": {},
   "source": [
    "### Below are a few examples of evaluating arithmetic expressiosn in Python ###"
   ]
  },
  {
   "cell_type": "code",
   "execution_count": 14,
   "id": "be6c1e8c",
   "metadata": {},
   "outputs": [
    {
     "data": {
      "text/plain": [
       "17"
      ]
     },
     "execution_count": 14,
     "metadata": {},
     "output_type": "execute_result"
    }
   ],
   "source": [
    "# This is a simple arithmetic expression to multiply then add integers\n",
    "(3*4)+5"
   ]
  },
  {
   "cell_type": "code",
   "execution_count": 15,
   "id": "7e9cfd3a",
   "metadata": {},
   "outputs": [
    {
     "name": "stdout",
     "output_type": "stream",
     "text": [
      "3.3333333333333335\n"
     ]
    }
   ],
   "source": [
    "# This will convert 200 minutes to hours by diving by 60\n",
    "minutes = 200\n",
    "result = minutes / 60\n",
    "print(result)"
   ]
  },
  {
   "cell_type": "markdown",
   "id": "0d324ecd",
   "metadata": {},
   "source": [
    "__Objectives:__\n",
    "* Popular languages in Data Science\n",
    "* Libraries used in Data Science\n",
    "* Tools used in Data Science"
   ]
  },
  {
   "cell_type": "markdown",
   "id": "3d1cdc6b",
   "metadata": {},
   "source": [
    "## Author\n",
    "Carlos Valdez"
   ]
  }
 ],
 "metadata": {
  "kernelspec": {
   "display_name": "Python 3 (ipykernel)",
   "language": "python",
   "name": "python3"
  },
  "language_info": {
   "codemirror_mode": {
    "name": "ipython",
    "version": 3
   },
   "file_extension": ".py",
   "mimetype": "text/x-python",
   "name": "python",
   "nbconvert_exporter": "python",
   "pygments_lexer": "ipython3",
   "version": "3.9.7"
  }
 },
 "nbformat": 4,
 "nbformat_minor": 5
}
